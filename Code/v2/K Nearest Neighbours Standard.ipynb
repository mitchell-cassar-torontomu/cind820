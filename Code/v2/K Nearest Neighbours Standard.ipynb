{
 "cells": [
  {
   "cell_type": "markdown",
   "id": "1f19f8ad-4012-4376-88cc-cc9b275be339",
   "metadata": {},
   "source": [
    "#### Imports"
   ]
  },
  {
   "cell_type": "code",
   "execution_count": 1,
   "id": "8b48dff3-02d8-45d2-927a-5d995d0db4f8",
   "metadata": {},
   "outputs": [],
   "source": [
    "from sklearn.neighbors import KNeighborsClassifier\n",
    "import evaluation\n",
    "from sklearn.model_selection import train_test_split, cross_val_score, RepeatedKFold\n",
    "from sklearn.metrics import confusion_matrix, ConfusionMatrixDisplay\n",
    "import time\n",
    "import matplotlib.pyplot as plt\n",
    "from statistics import mean\n",
    "from sklearn.feature_selection import RFE"
   ]
  },
  {
   "cell_type": "markdown",
   "id": "3e1fac9c-e3d9-4872-9a86-287aa60fc787",
   "metadata": {},
   "source": [
    "#### Retrieve Stored Variables\n",
    "Standard dataset"
   ]
  },
  {
   "cell_type": "code",
   "execution_count": 2,
   "id": "a0e7d7d9-b3f9-4200-a06d-346a9f194d57",
   "metadata": {},
   "outputs": [],
   "source": [
    "%store -r data"
   ]
  },
  {
   "cell_type": "markdown",
   "id": "2f1bba79-1440-410d-946b-f4e9e9aab1a4",
   "metadata": {},
   "source": [
    "#### Variable That Removes Class Variable and ID from Dataset"
   ]
  },
  {
   "cell_type": "code",
   "execution_count": 3,
   "id": "d6751d12-4243-47b6-baf0-ffc4131a83ee",
   "metadata": {},
   "outputs": [],
   "source": [
    "clean = list(set(list(data)) - set(['default_payment_next_month', 'id']))"
   ]
  },
  {
   "cell_type": "markdown",
   "id": "a3bfc60d-cecf-4521-9236-39477fb81a5f",
   "metadata": {},
   "source": [
    "#### Seperate Dataset into Training and Testing Subsets\n",
    "70/30 split will be used"
   ]
  },
  {
   "cell_type": "code",
   "execution_count": 4,
   "id": "3d10d435-8a46-482d-9d10-52850895c988",
   "metadata": {},
   "outputs": [],
   "source": [
    "std_x_train, std_x_test, std_y_train, std_y_test = train_test_split(data[clean], \n",
    "                                                                    data['default_payment_next_month'], \n",
    "                                                                    test_size=0.3, \n",
    "                                                                    random_state=14)"
   ]
  },
  {
   "cell_type": "markdown",
   "id": "e6d4f0a2-f28b-4783-bcee-32c22213d157",
   "metadata": {},
   "source": [
    "#### Instantiate Decision Tree Model Object"
   ]
  },
  {
   "cell_type": "code",
   "execution_count": 5,
   "id": "80a0e911-9e92-404a-a418-9e4068a8d42c",
   "metadata": {},
   "outputs": [],
   "source": [
    "model = KNeighborsClassifier()"
   ]
  },
  {
   "cell_type": "markdown",
   "id": "b783a608-a848-4c31-ad49-775705cd7f00",
   "metadata": {},
   "source": [
    "#### Train the Model on the Training Data and Use it to Predict Y Values of Test Set\n",
    "Include the time taken"
   ]
  },
  {
   "cell_type": "code",
   "execution_count": 6,
   "id": "70c20bfc-e306-441e-a93b-26252e86b86e",
   "metadata": {},
   "outputs": [
    {
     "name": "stdout",
     "output_type": "stream",
     "text": [
      "The model took 8.95 seconds to train and predict.\n"
     ]
    }
   ],
   "source": [
    "start = time.time()\n",
    "model.fit(X = std_x_train,\n",
    "          y = std_y_train)\n",
    "results = confusion_matrix(y_pred = model.predict(std_x_test),\n",
    "                           y_true = std_y_test)\n",
    "end = time.time()\n",
    "print(f'The model took {round(end - start, 2)} seconds to train and predict.')"
   ]
  },
  {
   "cell_type": "markdown",
   "id": "7305ee3a-9370-4241-8f58-8dda8c5531e6",
   "metadata": {},
   "source": [
    "#### Display Confusion Matrix"
   ]
  },
  {
   "cell_type": "code",
   "execution_count": 7,
   "id": "d7a9d414-6946-4dcf-ab01-7f39440095af",
   "metadata": {},
   "outputs": [
    {
     "data": {
      "text/plain": [
       "<sklearn.metrics._plot.confusion_matrix.ConfusionMatrixDisplay at 0x2ad618b0940>"
      ]
     },
     "execution_count": 7,
     "metadata": {},
     "output_type": "execute_result"
    },
    {
     "data": {
      "image/png": "[encoded data removed]",
      "text/plain": [
       "<Figure size 640x480 with 2 Axes>"
      ]
     },
     "metadata": {},
     "output_type": "display_data"
    }
   ],
   "source": [
    "ConfusionMatrixDisplay(results).plot()"
   ]
  },
  {
   "cell_type": "markdown",
   "id": "4a5bf5db-e1cd-444f-b272-285aa93fffa2",
   "metadata": {},
   "source": [
    "#### Evaluate the Model Using Custom Eval Metrics Class"
   ]
  },
  {
   "cell_type": "code",
   "execution_count": 8,
   "id": "700d577b-e444-450a-85cf-9f1af3bf9c99",
   "metadata": {},
   "outputs": [],
   "source": [
    "metrics = evaluation.evalMetrics(results)"
   ]
  },
  {
   "cell_type": "code",
   "execution_count": 9,
   "id": "26e423c2-9014-43c1-a793-0e0acbe7dde3",
   "metadata": {},
   "outputs": [
    {
     "name": "stdout",
     "output_type": "stream",
     "text": [
      "The Accuracy of the Model: 0.748\n",
      "The Precision of the Model: 0.79\n",
      "The Recall of the Model: 0.92\n",
      "The F-Score of the Model: 0.85\n",
      "The Negative Predictive Value  of the Model: 0.4\n",
      "The Positive Predicitive Value of the Model: 0.79\n"
     ]
    }
   ],
   "source": [
    "print(f'The Accuracy of the Model: {round(metrics.accuracy(),3)}')\n",
    "print(f'The Precision of the Model: {round(metrics.precision(),2)}')\n",
    "print(f'The Recall of the Model: {round(metrics.recall(),2)}')\n",
    "print(f'The F-Score of the Model: {round(metrics.fScore(),2)}')\n",
    "print(f'The Negative Predictive Value  of the Model: {round(metrics.negativePredictiveValue(),2)}')\n",
    "print(f'The Positive Predicitive Value of the Model: {round(metrics.positivePredictiveValue(),2)}')"
   ]
  },
  {
   "cell_type": "markdown",
   "id": "510f9ce2-f17d-40d7-b1ed-c182be4b7e2b",
   "metadata": {},
   "source": [
    "#### Cross Validate the Model Using Accuracy"
   ]
  },
  {
   "cell_type": "code",
   "execution_count": 10,
   "id": "25c181fa-b18f-4118-a857-170564171b75",
   "metadata": {},
   "outputs": [],
   "source": [
    "start = time.time()\n",
    "cv = RepeatedKFold(n_splits=10, n_repeats=3, random_state=28)\n",
    "cv_scores = cross_val_score(model, data[clean], data['default_payment_next_month'], scoring='accuracy', cv=cv)\n",
    "end = time.time()"
   ]
  },
  {
   "cell_type": "markdown",
   "id": "792744eb-3c17-4277-ad0c-21b2759d4319",
   "metadata": {},
   "source": [
    "#### CV Scores, Min and Max"
   ]
  },
  {
   "cell_type": "code",
   "execution_count": 11,
   "id": "3a027847-05ce-4849-9375-fba97087ae99",
   "metadata": {},
   "outputs": [
    {
     "name": "stdout",
     "output_type": "stream",
     "text": [
      "[0.75466667 0.772      0.75366667 0.74033333 0.77833333 0.745\n",
      " 0.75666667 0.75733333 0.75133333 0.741      0.75533333 0.753\n",
      " 0.771      0.76866667 0.76333333 0.751      0.75233333 0.749\n",
      " 0.754      0.75       0.75633333 0.75533333 0.75366667 0.75533333\n",
      " 0.75466667 0.74933333 0.752      0.76133333 0.752      0.756     ]\n",
      "\n",
      "Max Cross Validation Score:  0.7783333333333333\n",
      "Min Cross Validation Score:  0.7403333333333333\n"
     ]
    }
   ],
   "source": [
    "print(cv_scores)\n",
    "print()\n",
    "print('Max Cross Validation Score: ', max(cv_scores))\n",
    "print('Min Cross Validation Score: ', min(cv_scores))"
   ]
  },
  {
   "cell_type": "markdown",
   "id": "4102c4b5-2395-4fa4-8004-1ea031340e84",
   "metadata": {},
   "source": [
    "#### Evaluate the Results of the Cross-Validation"
   ]
  },
  {
   "cell_type": "code",
   "execution_count": 12,
   "id": "6d9c6eb0-825f-46ce-aad2-413e74e8ff0b",
   "metadata": {},
   "outputs": [
    {
     "name": "stdout",
     "output_type": "stream",
     "text": [
      "Cross Validation took 118.08 seconds and produced an average accuracy of 0.755\n"
     ]
    }
   ],
   "source": [
    "print(f'Cross Validation took {round(end - start, 2)} seconds and produced an average accuracy of {round(mean(cv_scores),3)}')"
   ]
  },
  {
   "cell_type": "markdown",
   "id": "dd8d0d4a-463f-43ba-aade-c7c6aab4f5bf",
   "metadata": {},
   "source": [
    "#### Retrieve the Selected Features from the Random Forest Algorithm"
   ]
  },
  {
   "cell_type": "code",
   "execution_count": 13,
   "id": "1bb27789-80ba-4d50-8760-7f30d5262547",
   "metadata": {},
   "outputs": [],
   "source": [
    "%store -r selected_features"
   ]
  },
  {
   "cell_type": "code",
   "execution_count": 14,
   "id": "6886f771-0e45-4e25-98ff-9ebd92a07d1f",
   "metadata": {},
   "outputs": [
    {
     "data": {
      "text/plain": [
       "['pay_0', 'pay_2', 'age', 'limit_bal', 'education']"
      ]
     },
     "execution_count": 14,
     "metadata": {},
     "output_type": "execute_result"
    }
   ],
   "source": [
    "selected_features"
   ]
  },
  {
   "cell_type": "markdown",
   "id": "4fb4b241-93db-4960-a953-700ff84ce06a",
   "metadata": {},
   "source": [
    "#### Retrain Model on Selected Features and Evaluate Change in Performance"
   ]
  },
  {
   "cell_type": "code",
   "execution_count": 15,
   "id": "1697f26b-1bfd-4435-bcba-0189e1c76a70",
   "metadata": {},
   "outputs": [],
   "source": [
    "features_x_train, features_x_test, features_y_train, features_y_test = train_test_split(data[selected_features], \n",
    "                                                                    data['default_payment_next_month'], \n",
    "                                                                    test_size=0.3, \n",
    "                                                                    random_state=96)"
   ]
  },
  {
   "cell_type": "markdown",
   "id": "42fbc7ba-1f1e-46a8-a964-87da9c06968f",
   "metadata": {},
   "source": [
    "#### Reinstantiate Model and Fit/Predict"
   ]
  },
  {
   "cell_type": "code",
   "execution_count": 16,
   "id": "4fd971f7-a726-4c95-969d-18144a9be989",
   "metadata": {},
   "outputs": [],
   "source": [
    "model = KNeighborsClassifier()"
   ]
  },
  {
   "cell_type": "code",
   "execution_count": 17,
   "id": "45a08c0c-d6ec-443a-8426-6f53c21de305",
   "metadata": {},
   "outputs": [
    {
     "name": "stdout",
     "output_type": "stream",
     "text": [
      "The model took 0.9 seconds to train and predict.\n"
     ]
    }
   ],
   "source": [
    "start = time.time()\n",
    "model.fit(X = features_x_train,\n",
    "          y = features_y_train)\n",
    "results = confusion_matrix(y_pred = model.predict(features_x_test),\n",
    "                           y_true = features_y_test)\n",
    "end = time.time()\n",
    "print(f'The model took {round(end - start, 2)} seconds to train and predict.')"
   ]
  },
  {
   "cell_type": "markdown",
   "id": "78a5d8dd-78a6-413f-8e30-9dbf33f82f3d",
   "metadata": {},
   "source": [
    "#### Display CF"
   ]
  },
  {
   "cell_type": "code",
   "execution_count": 18,
   "id": "9fc7d643-9f30-4516-a3d2-92ff7282bb06",
   "metadata": {},
   "outputs": [
    {
     "data": {
      "text/plain": [
       "<sklearn.metrics._plot.confusion_matrix.ConfusionMatrixDisplay at 0x2ad60770970>"
      ]
     },
     "execution_count": 18,
     "metadata": {},
     "output_type": "execute_result"
    },
    {
     "data": {
      "image/png": "[encoded data removed]",
      "text/plain": [
       "<Figure size 640x480 with 2 Axes>"
      ]
     },
     "metadata": {},
     "output_type": "display_data"
    }
   ],
   "source": [
    "ConfusionMatrixDisplay(results).plot()"
   ]
  },
  {
   "cell_type": "markdown",
   "id": "fda9510a-93ab-40a9-ada0-91803a06d849",
   "metadata": {},
   "source": [
    "#### Evaluate and Cross-Validate"
   ]
  },
  {
   "cell_type": "code",
   "execution_count": 19,
   "id": "dd49873f-531d-4d2b-be13-fc9dfd4e0ab0",
   "metadata": {},
   "outputs": [
    {
     "name": "stdout",
     "output_type": "stream",
     "text": [
      "The Accuracy of the Model: 0.787\n",
      "The Precision of the Model: 0.82\n",
      "The Recall of the Model: 0.93\n",
      "The F-Score of the Model: 0.87\n",
      "The Negative Predictive Value  of the Model: 0.52\n",
      "The Positive Predicitive Value of the Model: 0.82\n"
     ]
    }
   ],
   "source": [
    "metrics = evaluation.evalMetrics(results)\n",
    "print(f'The Accuracy of the Model: {round(metrics.accuracy(),3)}')\n",
    "print(f'The Precision of the Model: {round(metrics.precision(),2)}')\n",
    "print(f'The Recall of the Model: {round(metrics.recall(),2)}')\n",
    "print(f'The F-Score of the Model: {round(metrics.fScore(),2)}')\n",
    "print(f'The Negative Predictive Value  of the Model: {round(metrics.negativePredictiveValue(),2)}')\n",
    "print(f'The Positive Predicitive Value of the Model: {round(metrics.positivePredictiveValue(),2)}')"
   ]
  },
  {
   "cell_type": "code",
   "execution_count": 20,
   "id": "313fdc50-0811-45fb-aac1-ddb16440d5bb",
   "metadata": {},
   "outputs": [
    {
     "name": "stdout",
     "output_type": "stream",
     "text": [
      "Cross Validation took 12.62 seconds and produced an average accuracy of 0.789\n"
     ]
    }
   ],
   "source": [
    "start = time.time()\n",
    "cv = RepeatedKFold(n_splits=10, n_repeats=3, random_state=17)\n",
    "cv_scores = cross_val_score(model, data[selected_features], data['default_payment_next_month'], scoring='accuracy', cv=cv)\n",
    "end = time.time()\n",
    "print(f'Cross Validation took {round(end - start, 2)} seconds and produced an average accuracy of {round(mean(cv_scores),3)}')"
   ]
  },
  {
   "cell_type": "markdown",
   "id": "bd01095c-8ef3-450a-99fa-62becd1e7ca0",
   "metadata": {},
   "source": [
    "#### CV Scores, Min and Max"
   ]
  },
  {
   "cell_type": "code",
   "execution_count": 21,
   "id": "447d33a0-248a-4a95-af3e-32adf16f9861",
   "metadata": {},
   "outputs": [
    {
     "name": "stdout",
     "output_type": "stream",
     "text": [
      "[0.78166667 0.79733333 0.78666667 0.79033333 0.79433333 0.782\n",
      " 0.792      0.76966667 0.789      0.78666667 0.79       0.78366667\n",
      " 0.78366667 0.78566667 0.798      0.78666667 0.79433333 0.78666667\n",
      " 0.78633333 0.79033333 0.78966667 0.79266667 0.782      0.78766667\n",
      " 0.78466667 0.789      0.78366667 0.789      0.80566667 0.79633333]\n",
      "\n",
      "Max Cross Validation Score:  0.8056666666666666\n",
      "Min Cross Validation Score:  0.7696666666666667\n"
     ]
    }
   ],
   "source": [
    "print(cv_scores)\n",
    "print()\n",
    "print('Max Cross Validation Score: ', max(cv_scores))\n",
    "print('Min Cross Validation Score: ', min(cv_scores))"
   ]
  }
 ],
 "metadata": {
  "kernelspec": {
   "display_name": "Python 3 (ipykernel)",
   "language": "python",
   "name": "python3"
  },
  "language_info": {
   "codemirror_mode": {
    "name": "ipython",
    "version": 3
   },
   "file_extension": ".py",
   "mimetype": "text/x-python",
   "name": "python",
   "nbconvert_exporter": "python",
   "pygments_lexer": "ipython3",
   "version": "3.8.15"
  }
 },
 "nbformat": 4,
 "nbformat_minor": 5
}
