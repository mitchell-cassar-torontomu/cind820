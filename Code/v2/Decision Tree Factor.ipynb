{
 "cells": [
  {
   "cell_type": "markdown",
   "id": "1f19f8ad-4012-4376-88cc-cc9b275be339",
   "metadata": {},
   "source": [
    "#### Imports"
   ]
  },
  {
   "cell_type": "code",
   "execution_count": 27,
   "id": "8b48dff3-02d8-45d2-927a-5d995d0db4f8",
   "metadata": {},
   "outputs": [],
   "source": [
    "from sklearn.tree import DecisionTreeClassifier\n",
    "import evaluation\n",
    "from sklearn.model_selection import train_test_split, cross_val_score, RepeatedKFold\n",
    "from sklearn.metrics import confusion_matrix, ConfusionMatrixDisplay\n",
    "import time\n",
    "import matplotlib.pyplot as plt\n",
    "from statistics import mean"
   ]
  },
  {
   "cell_type": "markdown",
   "id": "3e1fac9c-e3d9-4872-9a86-287aa60fc787",
   "metadata": {},
   "source": [
    "#### Retrieve Stored Variables\n",
    "Standard and Factorized Datasets"
   ]
  },
  {
   "cell_type": "code",
   "execution_count": 28,
   "id": "a0e7d7d9-b3f9-4200-a06d-346a9f194d57",
   "metadata": {},
   "outputs": [],
   "source": [
    "%store -r data_levels"
   ]
  },
  {
   "cell_type": "markdown",
   "id": "2f1bba79-1440-410d-946b-f4e9e9aab1a4",
   "metadata": {},
   "source": [
    "#### Variable That Removes Class Variable and ID from Dataset"
   ]
  },
  {
   "cell_type": "code",
   "execution_count": 29,
   "id": "d6751d12-4243-47b6-baf0-ffc4131a83ee",
   "metadata": {},
   "outputs": [],
   "source": [
    "clean = list(set(list(data_levels)) - set(['default_payment_next_month', 'id']))"
   ]
  },
  {
   "cell_type": "markdown",
   "id": "a3bfc60d-cecf-4521-9236-39477fb81a5f",
   "metadata": {},
   "source": [
    "#### Seperate Both Datasets into Training and Testing Subsets\n",
    "70/30 split will be used"
   ]
  },
  {
   "cell_type": "code",
   "execution_count": 30,
   "id": "944d28ab-b081-47fb-8629-54579a9c4f23",
   "metadata": {},
   "outputs": [],
   "source": [
    "fctr_x_train, fctr_x_test, fctr_y_train, fctr_y_test = train_test_split(data_levels[clean], \n",
    "                                                                    data_levels['default_payment_next_month'], \n",
    "                                                                    test_size=0.3, \n",
    "                                                                    random_state=11)"
   ]
  },
  {
   "cell_type": "markdown",
   "id": "e6d4f0a2-f28b-4783-bcee-32c22213d157",
   "metadata": {},
   "source": [
    "#### Instantiate Decision Tree Model Object"
   ]
  },
  {
   "cell_type": "code",
   "execution_count": 31,
   "id": "80a0e911-9e92-404a-a418-9e4068a8d42c",
   "metadata": {},
   "outputs": [],
   "source": [
    "model = DecisionTreeClassifier()"
   ]
  },
  {
   "cell_type": "markdown",
   "id": "b783a608-a848-4c31-ad49-775705cd7f00",
   "metadata": {},
   "source": [
    "#### Train the Model on the Training Data and Use it to Predict Y Values of Test Set\n",
    "Include the time taken"
   ]
  },
  {
   "cell_type": "code",
   "execution_count": 32,
   "id": "70c20bfc-e306-441e-a93b-26252e86b86e",
   "metadata": {},
   "outputs": [
    {
     "name": "stdout",
     "output_type": "stream",
     "text": [
      "The model took 0.35 seconds to train and predict.\n"
     ]
    }
   ],
   "source": [
    "start = time.time()\n",
    "model.fit(X = fctr_x_train,\n",
    "          y = fctr_y_train)\n",
    "results = confusion_matrix(y_pred = model.predict(fctr_x_test),\n",
    "                           y_true = fctr_y_test)\n",
    "end = time.time()\n",
    "print(f'The model took {round(end - start, 2)} seconds to train and predict.')"
   ]
  },
  {
   "cell_type": "markdown",
   "id": "7305ee3a-9370-4241-8f58-8dda8c5531e6",
   "metadata": {},
   "source": [
    "#### Display Confusion Matrix"
   ]
  },
  {
   "cell_type": "code",
   "execution_count": 33,
   "id": "d7a9d414-6946-4dcf-ab01-7f39440095af",
   "metadata": {},
   "outputs": [
    {
     "data": {
      "text/plain": [
       "<sklearn.metrics._plot.confusion_matrix.ConfusionMatrixDisplay at 0x27cacb17550>"
      ]
     },
     "execution_count": 33,
     "metadata": {},
     "output_type": "execute_result"
    },
    {
     "data": {
      "image/png": "[encoded data removed]",
      "text/plain": [
       "<Figure size 640x480 with 2 Axes>"
      ]
     },
     "metadata": {},
     "output_type": "display_data"
    }
   ],
   "source": [
    "ConfusionMatrixDisplay(results).plot()"
   ]
  },
  {
   "cell_type": "markdown",
   "id": "4a5bf5db-e1cd-444f-b272-285aa93fffa2",
   "metadata": {},
   "source": [
    "#### Evaluate the Model Using Custom Eval Metrics Class"
   ]
  },
  {
   "cell_type": "code",
   "execution_count": 34,
   "id": "700d577b-e444-450a-85cf-9f1af3bf9c99",
   "metadata": {},
   "outputs": [],
   "source": [
    "metrics = evaluation.evalMetrics(results)"
   ]
  },
  {
   "cell_type": "code",
   "execution_count": 35,
   "id": "26e423c2-9014-43c1-a793-0e0acbe7dde3",
   "metadata": {},
   "outputs": [
    {
     "name": "stdout",
     "output_type": "stream",
     "text": [
      "The Accuracy of the Model: 0.724\n",
      "The Precision of the Model: 0.83\n",
      "The Recall of the Model: 0.81\n",
      "The F-Score of the Model: 0.82\n",
      "The Negative Predictive Value  of the Model: 0.4\n",
      "The Positive Predicitive Value of the Model: 0.83\n"
     ]
    }
   ],
   "source": [
    "print(f'The Accuracy of the Model: {round(metrics.accuracy(),3)}')\n",
    "print(f'The Precision of the Model: {round(metrics.precision(),2)}')\n",
    "print(f'The Recall of the Model: {round(metrics.recall(),2)}')\n",
    "print(f'The F-Score of the Model: {round(metrics.fScore(),2)}')\n",
    "print(f'The Negative Predictive Value  of the Model: {round(metrics.negativePredictiveValue(),2)}')\n",
    "print(f'The Positive Predicitive Value of the Model: {round(metrics.positivePredictiveValue(),2)}')"
   ]
  },
  {
   "cell_type": "markdown",
   "id": "510f9ce2-f17d-40d7-b1ed-c182be4b7e2b",
   "metadata": {},
   "source": [
    "#### Cross Validate the Model Using Accuracy"
   ]
  },
  {
   "cell_type": "code",
   "execution_count": 36,
   "id": "25c181fa-b18f-4118-a857-170564171b75",
   "metadata": {},
   "outputs": [],
   "source": [
    "start = time.time()\n",
    "cv = RepeatedKFold(n_splits=10, n_repeats=3, random_state=28)\n",
    "cv_scores = cross_val_score(model, data_levels[clean], data_levels['default_payment_next_month'], scoring='accuracy', cv=cv)\n",
    "end = time.time()"
   ]
  },
  {
   "cell_type": "markdown",
   "id": "9050f53d-6f03-4d11-8672-22bc64b1af25",
   "metadata": {},
   "source": [
    "#### Show Cross Validation Scores, Min and Max"
   ]
  },
  {
   "cell_type": "code",
   "execution_count": 37,
   "id": "ad7f24b7-c739-4e19-8d2c-f35eb8b821bc",
   "metadata": {},
   "outputs": [
    {
     "name": "stdout",
     "output_type": "stream",
     "text": [
      "[0.72866667 0.73033333 0.733      0.72966667 0.728      0.72466667\n",
      " 0.721      0.72333333 0.716      0.70633333 0.71633333 0.702\n",
      " 0.73866667 0.72666667 0.733      0.72566667 0.725      0.727\n",
      " 0.73166667 0.73033333 0.70433333 0.72133333 0.71933333 0.721\n",
      " 0.719      0.71333333 0.73333333 0.72666667 0.71733333 0.72833333]\n",
      "\n",
      "Max Cross Validation Score:  0.7386666666666667\n",
      "Min Cross Validation Score:  0.702\n"
     ]
    }
   ],
   "source": [
    "print(cv_scores)\n",
    "print()\n",
    "print('Max Cross Validation Score: ', max(cv_scores))\n",
    "print('Min Cross Validation Score: ', min(cv_scores))"
   ]
  },
  {
   "cell_type": "markdown",
   "id": "4102c4b5-2395-4fa4-8004-1ea031340e84",
   "metadata": {},
   "source": [
    "#### Evaluate the Results of the Cross-Validation"
   ]
  },
  {
   "cell_type": "code",
   "execution_count": 38,
   "id": "6d9c6eb0-825f-46ce-aad2-413e74e8ff0b",
   "metadata": {},
   "outputs": [
    {
     "name": "stdout",
     "output_type": "stream",
     "text": [
      "Cross Validation took 11.1 seconds and produced an average accuracy of 0.723\n"
     ]
    }
   ],
   "source": [
    "print(f'Cross Validation took {round(end - start, 2)} seconds and produced an average accuracy of {round(mean(cv_scores),3)}')"
   ]
  },
  {
   "cell_type": "markdown",
   "id": "dd8d0d4a-463f-43ba-aade-c7c6aab4f5bf",
   "metadata": {},
   "source": [
    "#### Analyze Feature Importances and Select the 7 Most Meaningful\n",
    "Create dict of feature values and their associated label"
   ]
  },
  {
   "cell_type": "code",
   "execution_count": 39,
   "id": "1bb27789-80ba-4d50-8760-7f30d5262547",
   "metadata": {},
   "outputs": [],
   "source": [
    "features = {}\n",
    "for i in range(len(model.feature_importances_)):\n",
    "    features[model.feature_importances_[i]] = model.feature_names_in_[i]"
   ]
  },
  {
   "cell_type": "markdown",
   "id": "a73106d2-0597-4a7d-b8fb-d0da98d44bf2",
   "metadata": {},
   "source": [
    "Select the 5 best features and return the labels as a list"
   ]
  },
  {
   "cell_type": "code",
   "execution_count": 40,
   "id": "8bd9f543-2624-47c2-b233-4d09defded3f",
   "metadata": {},
   "outputs": [
    {
     "data": {
      "text/plain": [
       "['pay_amt6', 'limit_bal', 'education', 'pay_2', 'pay_0', 'pay_amt5', 'age']"
      ]
     },
     "execution_count": 40,
     "metadata": {},
     "output_type": "execute_result"
    }
   ],
   "source": [
    "selected_features = {k: v for k,v in features.items() if k in sorted(features.keys())[::-1][:7]}\n",
    "selected_features = list(selected_features.values())\n",
    "selected_features"
   ]
  },
  {
   "cell_type": "markdown",
   "id": "4fb4b241-93db-4960-a953-700ff84ce06a",
   "metadata": {},
   "source": [
    "#### Retrain Model on Selected Features and Evaluate Change in Performance"
   ]
  },
  {
   "cell_type": "code",
   "execution_count": 41,
   "id": "1697f26b-1bfd-4435-bcba-0189e1c76a70",
   "metadata": {},
   "outputs": [],
   "source": [
    "features_x_train, features_x_test, features_y_train, features_y_test = train_test_split(data_levels[selected_features], \n",
    "                                                                    data_levels['default_payment_next_month'], \n",
    "                                                                    test_size=0.3, \n",
    "                                                                    random_state=14)"
   ]
  },
  {
   "cell_type": "markdown",
   "id": "42fbc7ba-1f1e-46a8-a964-87da9c06968f",
   "metadata": {},
   "source": [
    "#### Reinstantiate Model and Fit/Predict"
   ]
  },
  {
   "cell_type": "code",
   "execution_count": 42,
   "id": "4fd971f7-a726-4c95-969d-18144a9be989",
   "metadata": {},
   "outputs": [],
   "source": [
    "model = DecisionTreeClassifier()"
   ]
  },
  {
   "cell_type": "code",
   "execution_count": 43,
   "id": "45a08c0c-d6ec-443a-8426-6f53c21de305",
   "metadata": {},
   "outputs": [
    {
     "name": "stdout",
     "output_type": "stream",
     "text": [
      "The model took 0.12 seconds to train and predict.\n"
     ]
    }
   ],
   "source": [
    "start = time.time()\n",
    "model.fit(X = features_x_train,\n",
    "          y = features_y_train)\n",
    "results = confusion_matrix(y_pred = model.predict(features_x_test),\n",
    "                           y_true = features_y_test)\n",
    "end = time.time()\n",
    "print(f'The model took {round(end - start, 2)} seconds to train and predict.')"
   ]
  },
  {
   "cell_type": "markdown",
   "id": "78a5d8dd-78a6-413f-8e30-9dbf33f82f3d",
   "metadata": {},
   "source": [
    "#### Display CF"
   ]
  },
  {
   "cell_type": "code",
   "execution_count": 44,
   "id": "9fc7d643-9f30-4516-a3d2-92ff7282bb06",
   "metadata": {},
   "outputs": [
    {
     "data": {
      "text/plain": [
       "<sklearn.metrics._plot.confusion_matrix.ConfusionMatrixDisplay at 0x27cbd85dfd0>"
      ]
     },
     "execution_count": 44,
     "metadata": {},
     "output_type": "execute_result"
    },
    {
     "data": {
      "image/png": "[encoded data removed]",
      "text/plain": [
       "<Figure size 640x480 with 2 Axes>"
      ]
     },
     "metadata": {},
     "output_type": "display_data"
    }
   ],
   "source": [
    "ConfusionMatrixDisplay(results).plot()"
   ]
  },
  {
   "cell_type": "markdown",
   "id": "fda9510a-93ab-40a9-ada0-91803a06d849",
   "metadata": {},
   "source": [
    "Evaluate and Cross-Validate"
   ]
  },
  {
   "cell_type": "code",
   "execution_count": 45,
   "id": "dd49873f-531d-4d2b-be13-fc9dfd4e0ab0",
   "metadata": {},
   "outputs": [
    {
     "name": "stdout",
     "output_type": "stream",
     "text": [
      "The Accuracy of the Model: 0.724\n",
      "The Precision of the Model: 0.81\n",
      "The Recall of the Model: 0.83\n",
      "The F-Score of the Model: 0.82\n",
      "The Negative Predictive Value  of the Model: 0.39\n",
      "The Positive Predicitive Value of the Model: 0.81\n"
     ]
    }
   ],
   "source": [
    "metrics = evaluation.evalMetrics(results)\n",
    "print(f'The Accuracy of the Model: {round(metrics.accuracy(),3)}')\n",
    "print(f'The Precision of the Model: {round(metrics.precision(),2)}')\n",
    "print(f'The Recall of the Model: {round(metrics.recall(),2)}')\n",
    "print(f'The F-Score of the Model: {round(metrics.fScore(),2)}')\n",
    "print(f'The Negative Predictive Value  of the Model: {round(metrics.negativePredictiveValue(),2)}')\n",
    "print(f'The Positive Predicitive Value of the Model: {round(metrics.positivePredictiveValue(),2)}')"
   ]
  },
  {
   "cell_type": "code",
   "execution_count": 46,
   "id": "313fdc50-0811-45fb-aac1-ddb16440d5bb",
   "metadata": {},
   "outputs": [
    {
     "name": "stdout",
     "output_type": "stream",
     "text": [
      "Cross Validation took 3.81 seconds and produced an average accuracy of 0.738\n"
     ]
    }
   ],
   "source": [
    "start = time.time()\n",
    "cv = RepeatedKFold(n_splits=10, n_repeats=3, random_state=28)\n",
    "cv_scores = cross_val_score(model, data_levels[selected_features], data_levels['default_payment_next_month'], scoring='accuracy', cv=cv)\n",
    "end = time.time()\n",
    "print(f'Cross Validation took {round(end - start, 2)} seconds and produced an average accuracy of {round(mean(cv_scores),3)}')"
   ]
  },
  {
   "cell_type": "markdown",
   "id": "fa0077d3-1ff0-423f-8ca9-b33878f4bc93",
   "metadata": {},
   "source": [
    "#### CV Scores, Min and Max"
   ]
  },
  {
   "cell_type": "code",
   "execution_count": 47,
   "id": "c515c64c-04da-49f5-8a6c-88f92b7b6bf5",
   "metadata": {},
   "outputs": [
    {
     "name": "stdout",
     "output_type": "stream",
     "text": [
      "[0.73233333 0.741      0.74166667 0.734      0.74233333 0.73133333\n",
      " 0.73333333 0.75166667 0.73933333 0.73133333 0.73633333 0.74\n",
      " 0.74666667 0.74       0.74166667 0.73266667 0.73233333 0.73366667\n",
      " 0.742      0.72333333 0.73433333 0.74133333 0.741      0.74\n",
      " 0.74266667 0.737      0.738      0.74066667 0.72966667 0.74      ]\n",
      "\n",
      "Max Cross Validation Score:  0.7516666666666667\n",
      "Min Cross Validation Score:  0.7233333333333334\n"
     ]
    }
   ],
   "source": [
    "print(cv_scores)\n",
    "print()\n",
    "print('Max Cross Validation Score: ', max(cv_scores))\n",
    "print('Min Cross Validation Score: ', min(cv_scores))"
   ]
  },
  {
   "cell_type": "code",
   "execution_count": null,
   "id": "19b4f1ce-a572-4a4f-8843-31764515ae74",
   "metadata": {},
   "outputs": [],
   "source": []
  }
 ],
 "metadata": {
  "kernelspec": {
   "display_name": "Python 3 (ipykernel)",
   "language": "python",
   "name": "python3"
  },
  "language_info": {
   "codemirror_mode": {
    "name": "ipython",
    "version": 3
   },
   "file_extension": ".py",
   "mimetype": "text/x-python",
   "name": "python",
   "nbconvert_exporter": "python",
   "pygments_lexer": "ipython3",
   "version": "3.8.15"
  }
 },
 "nbformat": 4,
 "nbformat_minor": 5
}
