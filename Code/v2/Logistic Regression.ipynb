{
 "cells": [
  {
   "cell_type": "code",
   "execution_count": 1,
   "id": "df02b634-d8ae-494a-bdfb-bae212bed2ac",
   "metadata": {},
   "outputs": [],
   "source": [
    "from sklearn.linear_model import LogisticRegression\n",
    "import evaluation\n",
    "from sklearn.model_selection import train_test_split, cross_val_score, RepeatedKFold\n",
    "from sklearn.metrics import confusion_matrix, ConfusionMatrixDisplay\n",
    "import time\n",
    "import matplotlib.pyplot as plt\n",
    "from statistics import mean\n",
    "from sklearn.feature_selection import RFE"
   ]
  },
  {
   "cell_type": "markdown",
   "id": "bdb0f31d-4688-4cc9-bfa0-0205f283ab7b",
   "metadata": {
    "tags": []
   },
   "source": [
    "#### Retrieve Stored Variables\n",
    "Standard and Factorized Datasets"
   ]
  },
  {
   "cell_type": "code",
   "execution_count": 2,
   "id": "ae2dee28-c13e-4b10-8996-1074f9756c56",
   "metadata": {},
   "outputs": [],
   "source": [
    "%store -r data"
   ]
  },
  {
   "cell_type": "markdown",
   "id": "3f1f0768-185d-46be-b75f-4469244ed805",
   "metadata": {},
   "source": [
    "#### Variable That Removes Class Variable and ID from Dataset"
   ]
  },
  {
   "cell_type": "code",
   "execution_count": 3,
   "id": "09404cf2-b283-4ef7-b9b0-7e1324f67762",
   "metadata": {},
   "outputs": [],
   "source": [
    "clean = list(set(list(data)) - set(['default_payment_next_month', 'id']))"
   ]
  },
  {
   "cell_type": "markdown",
   "id": "de6f6f78-5515-40ee-974d-1ea0d26f4e34",
   "metadata": {},
   "source": [
    "#### Seperate Dataset into raining and Testing Subsets"
   ]
  },
  {
   "cell_type": "code",
   "execution_count": 4,
   "id": "b33f33b0-fbe6-4188-a375-4d259340865d",
   "metadata": {},
   "outputs": [],
   "source": [
    "std_x_train, std_x_test, std_y_train, std_y_test = train_test_split(data[clean], \n",
    "                                                                    data['default_payment_next_month'], \n",
    "                                                                    test_size=0.3, \n",
    "                                                                    random_state=14)"
   ]
  },
  {
   "cell_type": "markdown",
   "id": "a413745b-cda2-4fe4-a742-51a364873b5a",
   "metadata": {},
   "source": [
    "#### Instantiate Logistic Regression Model Object"
   ]
  },
  {
   "cell_type": "code",
   "execution_count": 5,
   "id": "8cdb3155-a2d2-4722-ae87-f54c1b22e162",
   "metadata": {},
   "outputs": [],
   "source": [
    "model = LogisticRegression(solver='liblinear', random_state=34)"
   ]
  },
  {
   "cell_type": "markdown",
   "id": "6c95e963-fd0a-4798-be5d-174b10644d9b",
   "metadata": {},
   "source": [
    "#### Train Model on Training Data and Use it to Predict Y Values of Test Dataset\n",
    "Include Time Taken"
   ]
  },
  {
   "cell_type": "code",
   "execution_count": 6,
   "id": "e5db2661-e8a0-4f90-87ba-61e2bafa84da",
   "metadata": {},
   "outputs": [
    {
     "name": "stdout",
     "output_type": "stream",
     "text": [
      "The model took 1.31 seconds to train and predict.\n"
     ]
    }
   ],
   "source": [
    "start = time.time()\n",
    "model.fit(X = std_x_train,\n",
    "          y = std_y_train)\n",
    "results = confusion_matrix(y_pred = model.predict(std_x_test),\n",
    "                           y_true = std_y_test)\n",
    "end = time.time()\n",
    "print(f'The model took {round(end - start, 2)} seconds to train and predict.')"
   ]
  },
  {
   "cell_type": "markdown",
   "id": "59381608-25bd-4784-a70d-2057f2ea7b12",
   "metadata": {},
   "source": [
    "#### Display Confusion Matrix"
   ]
  },
  {
   "cell_type": "code",
   "execution_count": 7,
   "id": "285438e7-55f0-4926-a8b6-c01ff949bc3e",
   "metadata": {},
   "outputs": [
    {
     "data": {
      "text/plain": [
       "<sklearn.metrics._plot.confusion_matrix.ConfusionMatrixDisplay at 0x199e59df2b0>"
      ]
     },
     "execution_count": 7,
     "metadata": {},
     "output_type": "execute_result"
    },
    {
     "data": {
      "image/png": "[encoded data removed]",
      "text/plain": [
       "<Figure size 640x480 with 2 Axes>"
      ]
     },
     "metadata": {},
     "output_type": "display_data"
    }
   ],
   "source": [
    "ConfusionMatrixDisplay(results).plot()"
   ]
  },
  {
   "cell_type": "markdown",
   "id": "2f233b75-f715-4f1c-b151-331facffdd68",
   "metadata": {},
   "source": [
    "#### Evaluate Model Using Custom Eval Metrics Class"
   ]
  },
  {
   "cell_type": "code",
   "execution_count": 8,
   "id": "d25b7f70-018e-4310-aa0f-dfe9ba6c847c",
   "metadata": {},
   "outputs": [],
   "source": [
    "metrics = evaluation.evalMetrics(results)"
   ]
  },
  {
   "cell_type": "code",
   "execution_count": 9,
   "id": "a6a1c520-4a94-47b3-9a7d-3aad26d44a25",
   "metadata": {},
   "outputs": [
    {
     "name": "stdout",
     "output_type": "stream",
     "text": [
      "The Accuracy of the Model: 0.77\n",
      "The Precision of the Model: 0.77\n",
      "The Recall of the Model: 1.0\n",
      "The F-Score of the Model: 0.87\n",
      "The Negative Predictive Value  of the Model: nan\n",
      "The Positive Predicitive Value of the Model: 0.77\n"
     ]
    },
    {
     "name": "stderr",
     "output_type": "stream",
     "text": [
      "C:\\Users\\mitch\\OneDrive\\Documents\\Graduate Certificate\\CIND 820 - Capstone\\evaluation.py:30: RuntimeWarning: invalid value encountered in scalar divide\n",
      "  return self.tn / (self.tn + self.fn)\n"
     ]
    }
   ],
   "source": [
    "print(f'The Accuracy of the Model: {round(metrics.accuracy(),3)}')\n",
    "print(f'The Precision of the Model: {round(metrics.precision(),2)}')\n",
    "print(f'The Recall of the Model: {round(metrics.recall(),2)}')\n",
    "print(f'The F-Score of the Model: {round(metrics.fScore(),2)}')\n",
    "print(f'The Negative Predictive Value  of the Model: {round(metrics.negativePredictiveValue(),2)}')\n",
    "print(f'The Positive Predicitive Value of the Model: {round(metrics.positivePredictiveValue(),2)}')"
   ]
  },
  {
   "cell_type": "markdown",
   "id": "69d84aba-39b1-4123-855b-934cea27b56f",
   "metadata": {},
   "source": [
    "#### Cross Validate the Model using Accuracy"
   ]
  },
  {
   "cell_type": "code",
   "execution_count": 10,
   "id": "5307fb6c-9f1b-4e87-b8d5-3a8bbb8f8e80",
   "metadata": {},
   "outputs": [],
   "source": [
    "start = time.time()\n",
    "cv = RepeatedKFold(n_splits=10, n_repeats=3, random_state=28)\n",
    "cv_scores = cross_val_score(model, data[clean], data['default_payment_next_month'], scoring='accuracy', cv=cv)\n",
    "end = time.time()"
   ]
  },
  {
   "cell_type": "markdown",
   "id": "48981717-1dc8-49b3-b51a-fc05fff6d9d3",
   "metadata": {},
   "source": [
    "#### CV Scores, Min and Max"
   ]
  },
  {
   "cell_type": "code",
   "execution_count": 11,
   "id": "63ea63be-ed7a-4ee7-b0a3-ae284863eec3",
   "metadata": {},
   "outputs": [
    {
     "name": "stdout",
     "output_type": "stream",
     "text": [
      "[0.78066667 0.78966667 0.77833333 0.77266667 0.79433333 0.77333333\n",
      " 0.774      0.77766667 0.77866667 0.76733333 0.77833333 0.778\n",
      " 0.79966667 0.78733333 0.78433333 0.76933333 0.769      0.77033333\n",
      " 0.777      0.774      0.77466667 0.77466667 0.79066667 0.77266667\n",
      " 0.78333333 0.771      0.78633333 0.78233333 0.77066667 0.781     ]\n",
      "\n",
      "Max Cross Validation Score:  0.7996666666666666\n",
      "Min Cross Validation Score:  0.7673333333333333\n"
     ]
    }
   ],
   "source": [
    "print(cv_scores)\n",
    "print()\n",
    "print('Max Cross Validation Score: ', max(cv_scores))\n",
    "print('Min Cross Validation Score: ', min(cv_scores))"
   ]
  },
  {
   "cell_type": "markdown",
   "id": "a8647c3d-f68a-42c6-b407-0886f538b701",
   "metadata": {},
   "source": [
    "#### Evaluate Results of Cross Validation"
   ]
  },
  {
   "cell_type": "code",
   "execution_count": 12,
   "id": "45a27160-8bf3-4fbc-b4ab-13994b2cca49",
   "metadata": {},
   "outputs": [
    {
     "name": "stdout",
     "output_type": "stream",
     "text": [
      "Cross Validation took 46.56 seconds and produced an average accuracy of 0.779\n"
     ]
    }
   ],
   "source": [
    "print(f'Cross Validation took {round(end - start, 2)} seconds and produced an average accuracy of {round(mean(cv_scores),3)}')"
   ]
  },
  {
   "cell_type": "markdown",
   "id": "69aa4081-5805-4aac-befd-e8758db094a0",
   "metadata": {},
   "source": [
    "#### Use Recursive Feature Elimination to Build a Streamlined Model"
   ]
  },
  {
   "cell_type": "code",
   "execution_count": 13,
   "id": "e3ce78d6-f3b5-4509-bd9f-f15188dfb33b",
   "metadata": {},
   "outputs": [],
   "source": [
    "rfe = RFE(model, step = 5)\n",
    "rfe.fit(X = std_x_train,\n",
    "            y = std_y_train)\n",
    "selected_features = [i[0] for i in list(zip(data.columns, rfe.support_)) if i[1]]"
   ]
  },
  {
   "cell_type": "code",
   "execution_count": 14,
   "id": "ec14f8e3-0e8a-4692-8195-bd13af9a2ffb",
   "metadata": {},
   "outputs": [
    {
     "data": {
      "text/plain": [
       "['limit_bal',\n",
       " 'sex',\n",
       " 'age',\n",
       " 'pay_0',\n",
       " 'pay_5',\n",
       " 'bill_amt3',\n",
       " 'bill_amt5',\n",
       " 'bill_amt6',\n",
       " 'pay_amt1',\n",
       " 'pay_amt4',\n",
       " 'pay_amt5']"
      ]
     },
     "execution_count": 14,
     "metadata": {},
     "output_type": "execute_result"
    }
   ],
   "source": [
    "selected_features"
   ]
  },
  {
   "cell_type": "markdown",
   "id": "860b80a1-8031-44f2-b33c-612883bb12fd",
   "metadata": {},
   "source": [
    "#### Retrain Model on Selected Features and Evaluate Change in Performance"
   ]
  },
  {
   "cell_type": "code",
   "execution_count": 15,
   "id": "d3e0ae5b-96ad-4ed6-851b-06cef194c630",
   "metadata": {},
   "outputs": [],
   "source": [
    "features_x_train, features_x_test, features_y_train, features_y_test = train_test_split(data[selected_features], \n",
    "                                                                    data['default_payment_next_month'], \n",
    "                                                                    test_size=0.3, \n",
    "                                                                    random_state=14)"
   ]
  },
  {
   "cell_type": "markdown",
   "id": "b7fbac45-6eac-4606-9495-597555034e79",
   "metadata": {},
   "source": [
    "#### Reinstantiate Model nad Fit/Predict"
   ]
  },
  {
   "cell_type": "code",
   "execution_count": 16,
   "id": "60921220-a9d3-406c-8ff3-a282b0f09775",
   "metadata": {},
   "outputs": [],
   "source": [
    "model = LogisticRegression(solver='liblinear', random_state=34)"
   ]
  },
  {
   "cell_type": "code",
   "execution_count": 17,
   "id": "2710e8cf-a099-445a-b7a9-77271af676f2",
   "metadata": {},
   "outputs": [
    {
     "name": "stdout",
     "output_type": "stream",
     "text": [
      "The model took 0.24 seconds to train and predict.\n"
     ]
    }
   ],
   "source": [
    "start = time.time()\n",
    "model.fit(X = features_x_train,\n",
    "          y = features_y_train)\n",
    "results = confusion_matrix(y_pred = model.predict(features_x_test),\n",
    "                           y_true = features_y_test)\n",
    "end = time.time()\n",
    "print(f'The model took {round(end - start, 2)} seconds to train and predict.')"
   ]
  },
  {
   "cell_type": "markdown",
   "id": "c6e00f1f-3526-414e-ac3e-75f42ad53ba9",
   "metadata": {},
   "source": [
    "#### Display CF"
   ]
  },
  {
   "cell_type": "code",
   "execution_count": 18,
   "id": "37480043-ded3-4d66-b71a-bd2996fdb453",
   "metadata": {},
   "outputs": [
    {
     "data": {
      "text/plain": [
       "<sklearn.metrics._plot.confusion_matrix.ConfusionMatrixDisplay at 0x199e48a97f0>"
      ]
     },
     "execution_count": 18,
     "metadata": {},
     "output_type": "execute_result"
    },
    {
     "data": {
      "image/png": "[encoded data removed]",
      "text/plain": [
       "<Figure size 640x480 with 2 Axes>"
      ]
     },
     "metadata": {},
     "output_type": "display_data"
    }
   ],
   "source": [
    "ConfusionMatrixDisplay(results).plot()"
   ]
  },
  {
   "cell_type": "markdown",
   "id": "c32f724b-72db-43ef-81b0-f55948d31acd",
   "metadata": {},
   "source": [
    "#### Evaluate and Cross-Validate"
   ]
  },
  {
   "cell_type": "code",
   "execution_count": 19,
   "id": "4966bd24-25ef-4b5c-bcac-d5f9ea16324e",
   "metadata": {},
   "outputs": [
    {
     "name": "stdout",
     "output_type": "stream",
     "text": [
      "The Accuracy of the Model: 0.77\n",
      "The Precision of the Model: 0.77\n",
      "The Recall of the Model: 1.0\n",
      "The F-Score of the Model: 0.87\n",
      "The Negative Predictive Value  of the Model: nan\n",
      "The Positive Predicitive Value of the Model: 0.77\n"
     ]
    },
    {
     "name": "stderr",
     "output_type": "stream",
     "text": [
      "C:\\Users\\mitch\\OneDrive\\Documents\\Graduate Certificate\\CIND 820 - Capstone\\evaluation.py:30: RuntimeWarning: invalid value encountered in scalar divide\n",
      "  return self.tn / (self.tn + self.fn)\n"
     ]
    }
   ],
   "source": [
    "metrics = evaluation.evalMetrics(results)\n",
    "print(f'The Accuracy of the Model: {round(metrics.accuracy(),3)}')\n",
    "print(f'The Precision of the Model: {round(metrics.precision(),2)}')\n",
    "print(f'The Recall of the Model: {round(metrics.recall(),2)}')\n",
    "print(f'The F-Score of the Model: {round(metrics.fScore(),2)}')\n",
    "print(f'The Negative Predictive Value  of the Model: {round(metrics.negativePredictiveValue(),2)}')\n",
    "print(f'The Positive Predicitive Value of the Model: {round(metrics.positivePredictiveValue(),2)}')"
   ]
  },
  {
   "cell_type": "code",
   "execution_count": 20,
   "id": "a91a4ee0-d407-486a-a823-cf22cf077989",
   "metadata": {},
   "outputs": [
    {
     "name": "stdout",
     "output_type": "stream",
     "text": [
      "Cross Validation took 8.48 seconds and produced an average accuracy of 0.779\n"
     ]
    }
   ],
   "source": [
    "start = time.time()\n",
    "cv = RepeatedKFold(n_splits=10, n_repeats=3, random_state=28)\n",
    "cv_scores = cross_val_score(model, data[selected_features], data['default_payment_next_month'], scoring='accuracy', cv=cv)\n",
    "end = time.time()\n",
    "print(f'Cross Validation took {round(end - start, 2)} seconds and produced an average accuracy of {round(mean(cv_scores),3)}')"
   ]
  },
  {
   "cell_type": "markdown",
   "id": "770fb702-d1e4-41b0-9188-40965740a28c",
   "metadata": {},
   "source": [
    "#### CV Scores, Min and Max"
   ]
  },
  {
   "cell_type": "code",
   "execution_count": 21,
   "id": "e54f22b6-9bfa-429e-b2e0-387da35f72e4",
   "metadata": {},
   "outputs": [
    {
     "name": "stdout",
     "output_type": "stream",
     "text": [
      "[0.78066667 0.78966667 0.77833333 0.77266667 0.79466667 0.77366667\n",
      " 0.774      0.778      0.779      0.76733333 0.77833333 0.778\n",
      " 0.79966667 0.78766667 0.78433333 0.76966667 0.769      0.77033333\n",
      " 0.777      0.774      0.77466667 0.775      0.79066667 0.77266667\n",
      " 0.78366667 0.771      0.78633333 0.78233333 0.77066667 0.781     ]\n",
      "\n",
      "Max Cross Validation Score:  0.7996666666666666\n",
      "Min Cross Validation Score:  0.7673333333333333\n"
     ]
    }
   ],
   "source": [
    "print(cv_scores)\n",
    "print()\n",
    "print('Max Cross Validation Score: ', max(cv_scores))\n",
    "print('Min Cross Validation Score: ', min(cv_scores))"
   ]
  }
 ],
 "metadata": {
  "kernelspec": {
   "display_name": "Python 3 (ipykernel)",
   "language": "python",
   "name": "python3"
  },
  "language_info": {
   "codemirror_mode": {
    "name": "ipython",
    "version": 3
   },
   "file_extension": ".py",
   "mimetype": "text/x-python",
   "name": "python",
   "nbconvert_exporter": "python",
   "pygments_lexer": "ipython3",
   "version": "3.8.15"
  }
 },
 "nbformat": 4,
 "nbformat_minor": 5
}
